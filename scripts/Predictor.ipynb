{
 "cells": [
  {
   "cell_type": "code",
   "execution_count": 1,
   "metadata": {},
   "outputs": [],
   "source": [
    "import pandas as pd\n",
    "from rdkit import Chem\n",
    "from rdkit.Chem.inchi import *\n",
    "from rdkit.Chem.rdMolDescriptors import CalcMolFormula\n",
    "import urllib\n",
    "import string\n",
    "from multiprocessing import Pool\n"
   ]
  },
  {
   "cell_type": "code",
   "execution_count": 2,
   "metadata": {},
   "outputs": [],
   "source": [
    "import tensorflow as tf\n",
    "from tensorflow import keras\n",
    "from tensorflow.keras import layers\n",
    "import numpy as np\n",
    "import pandas as pd\n",
    "import matplotlib.pyplot as plt\n",
    "import warnings\n",
    "from rdkit import Chem\n",
    "from rdkit.Chem import Descriptors\n",
    "from rdkit.Chem.inchi import *\n",
    "from rdkit import RDLogger\n",
    "from rdkit.Chem.Draw import IPythonConsole\n",
    "from rdkit.Chem.Draw import MolsToGridImage\n",
    "import logging\n",
    "from multiprocessing import Pool\n",
    "import seaborn as sns\n",
    "import matplotlib.pyplot as plt\n",
    "from sklearn.model_selection import train_test_split\n",
    "from utils import *\n",
    "from custom_layers import *\n",
    "from model import *\n",
    "from plots import *\n",
    "from evals import *"
   ]
  },
  {
   "cell_type": "code",
   "execution_count": 4,
   "metadata": {},
   "outputs": [],
   "source": [
    "def predict_rt_for_inchi(ds, pretrained_path):\n",
    "    print(rt)\n",
    "   \n",
    "    p=Pool(8)\n",
    "    batch_size=64\n",
    "    ds['smiles'] = p.map(inchi2smiles, ds['inchi'])\n",
    "    ds=ds[ds.smiles!='NA']\n",
    "    \n",
    "    \n",
    "    ds['mol'] = ds['smiles'].apply(molecule_from_smiles)\n",
    "    ds['graph'] = p.map(graph_from_molecule, ds['mol'])\n",
    "    \n",
    "    atom_features_list = []\n",
    "    bond_features_list = []\n",
    "    pair_indices_list = []\n",
    "    for g in ds.graph:\n",
    "        atom_features_list.append(g[0])\n",
    "        bond_features_list.append(g[1])\n",
    "        pair_indices_list.append(g[2])\n",
    "        \n",
    "    \n",
    "        \n",
    "    \n",
    "    X = (np.array(atom_features_list), np.array(bond_features_list), np.array(pair_indices_list))\n",
    "    print(X[0].shape)\n",
    "    X = (tf.ragged.constant(X[0], dtype=tf.float32),\n",
    "         tf.ragged.constant(X[1], dtype=tf.float32),\n",
    "         tf.ragged.constant(X[2], dtype=tf.int64))\n",
    "    \n",
    "    \n",
    "    \n",
    "    y = np.zeros(ds.shape[0])\n",
    "    \n",
    "    dataset = tf.data.Dataset.from_tensor_slices((X,(y)))\n",
    "    dataset = dataset.batch(batch_size).map(prepare_batch, -1)\n",
    "    \n",
    "    mpnn = MPNNModel_frozen(atom_dim=X[0][0][0].shape[0], bond_dim=X[1][0][0].shape[0], batch_size=batch_size)\n",
    "    mpnn.load_weights(pretrained_path)\n",
    "    \n",
    "    \n",
    "    Y = mpnn.predict(dataset)\n",
    "    ds['rt_pred'] = Y\n",
    "    \n",
    "    return ds[['inchi', 'rt_pred']]"
   ]
  },
  {
   "cell_type": "code",
   "execution_count": null,
   "metadata": {},
   "outputs": [],
   "source": [
    "ds = pd.read_csv('../data/inchi.csv', sep=';')\n",
    "pretrained_path = '../models/Out_Final/mpnn_our_final.h5'"
   ]
  },
  {
   "cell_type": "code",
   "execution_count": null,
   "metadata": {},
   "outputs": [],
   "source": [
    "preds =  predict_rt_for_inchi(ds, pretrained_path)"
   ]
  },
  {
   "cell_type": "code",
   "execution_count": null,
   "metadata": {},
   "outputs": [],
   "source": []
  }
 ],
 "metadata": {
  "kernelspec": {
   "display_name": "Python 3 (ipykernel)",
   "language": "python",
   "name": "python3"
  },
  "language_info": {
   "codemirror_mode": {
    "name": "ipython",
    "version": 3
   },
   "file_extension": ".py",
   "mimetype": "text/x-python",
   "name": "python",
   "nbconvert_exporter": "python",
   "pygments_lexer": "ipython3",
   "version": "3.9.7"
  }
 },
 "nbformat": 4,
 "nbformat_minor": 4
}
