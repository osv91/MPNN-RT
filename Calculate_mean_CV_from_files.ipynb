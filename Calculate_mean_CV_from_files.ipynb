{
 "cells": [
  {
   "cell_type": "code",
   "execution_count": 1,
   "metadata": {},
   "outputs": [],
   "source": [
    "import numpy as np\n",
    "import os\n",
    "import pandas as pd"
   ]
  },
  {
   "cell_type": "code",
   "execution_count": 2,
   "metadata": {},
   "outputs": [],
   "source": [
    "def parse_result_file(path):\n",
    "    with open(path, \"r\") as f:\n",
    "        lines = f.readlines()\n",
    "        MAE = lines[0].split(\":\")[1].rstrip()\n",
    "        MedAE = lines[1].split(\":\")[1].rstrip()\n",
    "        RMSE =lines[2].split(\":\")[1].rstrip()\n",
    "        MRE = lines[3].split(\":\")[1].rstrip()\n",
    "        R2 = lines[4].split(\":\")[1].rstrip()\n",
    "    \n",
    "    return(float(MAE), float(MedAE), float(RMSE), float(MRE), float(R2))\n",
    "    "
   ]
  },
  {
   "cell_type": "code",
   "execution_count": 3,
   "metadata": {},
   "outputs": [],
   "source": [
    "def return_result_for_ds(path,  ds_name, n_folds=5):\n",
    "    f = open(path+\"/\"+\"Average_metrics_\"+ds_name+\".txt\", \"w\")\n",
    "    f.close()\n",
    "    \n",
    "    for ds_type in [\"Train\", \"Valid\", \"Test\"]:\n",
    "        mae, medae, rmse, mre, r2 = [],[],[],[],[]\n",
    "        for i in range(1, n_folds+1):\n",
    "            file = path+'/'+ds_name+\"_\"+str(i)+ds_type+'.txt'\n",
    "            metrics = parse_result_file(file)\n",
    "            mae.append(metrics[0])\n",
    "            medae.append(metrics[1])\n",
    "            rmse.append(metrics[2])\n",
    "            mre.append(metrics[3])\n",
    "            r2.append(metrics[4])\n",
    "        f = open(path+\"/\"+\"Average_metrics_\"+ds_name+\".txt\", \"a\")\n",
    "        f.write(ds_type+'\\n')\n",
    "        f.write(\"MAE\"+\";\"+str(np.mean(mae))+';'+str(np.std(mae))+'\\n')\n",
    "        f.write(\"MedAE\"+\";\"+str(np.mean(medae))+';'+str(np.std(medae))+'\\n')\n",
    "        f.write(\"RMSE\"+\";\"+str(np.mean(rmse))+';'+str(np.std(rmse))+'\\n')\n",
    "        f.write(\"MRE\"+\";\"+str(np.mean(mre))+';'+str(np.std(mre))+'\\n')\n",
    "        f.write(\"R2\"+\";\"+str(np.mean(r2))+';'+str(np.std(r2))+'\\n')\n",
    "        f.close()\n",
    "        \n",
    "        "
   ]
  },
  {
   "cell_type": "code",
   "execution_count": 17,
   "metadata": {},
   "outputs": [],
   "source": [
    "path = './results/LIFE_old_Scratch'\n",
    "ds_name = \"LIFE_old\"\n",
    "return_result_for_ds(path,  ds_name)"
   ]
  },
  {
   "cell_type": "code",
   "execution_count": null,
   "metadata": {},
   "outputs": [],
   "source": []
  },
  {
   "cell_type": "markdown",
   "metadata": {},
   "source": []
  }
 ],
 "metadata": {
  "kernelspec": {
   "display_name": "Python 3 (ipykernel)",
   "language": "python",
   "name": "python3"
  },
  "language_info": {
   "codemirror_mode": {
    "name": "ipython",
    "version": 3
   },
   "file_extension": ".py",
   "mimetype": "text/x-python",
   "name": "python",
   "nbconvert_exporter": "python",
   "pygments_lexer": "ipython3",
   "version": "3.9.7"
  }
 },
 "nbformat": 4,
 "nbformat_minor": 4
}
